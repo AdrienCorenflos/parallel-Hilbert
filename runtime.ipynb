{
 "cells": [
  {
   "cell_type": "code",
   "execution_count": null,
   "metadata": {
    "collapsed": true
   },
   "outputs": [],
   "source": [
    "# Imports\n",
    "import time\n",
    "\n",
    "import jax\n",
    "import matplotlib.pyplot as plt\n",
    "import numpy as np\n",
    "import tqdm.autonotebook as tqdm\n",
    "from matplotlib.colors import LogNorm\n",
    "\n",
    "import hilbert_sort.jax as jax_backend\n",
    "from hilbert_sort.numba import hilbert_sort as nb_hilbert_sort"
   ]
  },
  {
   "cell_type": "code",
   "execution_count": null,
   "outputs": [],
   "source": [
    "# Config\n",
    "jax.config.update(\"jax_enable_x64\", True)  # this needs to be set to true in order to use int64\n",
    "\n",
    "backend = \"cpu\"\n",
    "n_runs = 10\n",
    "jax_hilbert_sort = jax.jit(jax_backend.hilbert_sort, backend=backend)\n",
    "\n",
    "Ds = np.arange(1, 6, dtype=int)\n",
    "Ns = np.logspace(1, 5, num=5, dtype=int, base=10)"
   ],
   "metadata": {
    "collapsed": false,
    "pycharm": {
     "name": "#%%\n"
    }
   }
  },
  {
   "cell_type": "code",
   "execution_count": null,
   "outputs": [],
   "source": [
    "# Loop\n",
    "runtime_nb = np.empty((Ds.shape[0], Ns.shape[0]))\n",
    "runtime_jax = np.empty((Ds.shape[0], Ns.shape[0]))\n",
    "\n",
    "for i, n in enumerate(tqdm.tqdm(Ns)):\n",
    "    for j, d in enumerate(tqdm.tqdm(Ds, leave=False)):\n",
    "        x = np.random.randn(n, d)\n",
    "\n",
    "        # compilation run\n",
    "        _ = nb_hilbert_sort(x)\n",
    "\n",
    "        # Numba runtime loop\n",
    "        tic = time.time()\n",
    "        for _ in range(n_runs):\n",
    "            _ = nb_hilbert_sort(x)\n",
    "        nb_time = (time.time() - tic) / n_runs\n",
    "\n",
    "        # compilation run\n",
    "        res = jax_hilbert_sort(x)\n",
    "        res.block_until_ready()\n",
    "\n",
    "        # JAX runtime loop\n",
    "        tic = time.time()\n",
    "        for _ in range(n_runs):\n",
    "            res = jax_hilbert_sort(x)\n",
    "            res.block_until_ready()\n",
    "        jax_time = (time.time() - tic) / n_runs\n",
    "\n",
    "        runtime_nb[j, i] = nb_time\n",
    "        runtime_jax[j, i] = jax_time\n",
    "    print(f\"Iteration {i+1} out of {Ns.shape[0]} done (N={n}). avg nb = {runtime_nb[:, i].mean()}, avg jax = {runtime_jax[:, i].mean()}\")"
   ],
   "metadata": {
    "collapsed": false,
    "pycharm": {
     "name": "#%%\n"
    }
   }
  },
  {
   "cell_type": "code",
   "execution_count": null,
   "outputs": [],
   "source": [
    "# Plot\n",
    "NN, DD = np.meshgrid(Ns, Ds)\n",
    "\n",
    "fig, axes = plt.subplots(ncols=2, figsize=(12, 5))\n",
    "\n",
    "vmin = np.minimum(runtime_nb.min(), runtime_jax.min())\n",
    "vmax = np.maximum(runtime_nb.max(), runtime_jax.max())\n",
    "\n",
    "axes[0].pcolormesh(np.log10(NN), DD, runtime_nb, norm=LogNorm(vmin=vmin, vmax=vmax))\n",
    "axes[0].set_title(\"Numba runtime (s)\")\n",
    "im = axes[1].pcolormesh(np.log10(NN), DD, runtime_jax, norm=LogNorm(vmin=vmin, vmax=vmax))\n",
    "axes[1].set_title(\"JAX runtime (s)\")\n",
    "axes[0].set_xlabel(\"$\\log_{10}(N)$\")\n",
    "axes[0].set_ylabel(\"$d_X$\")\n",
    "axes[1].set_xlabel(\"$\\log_{10}(N)$\")\n",
    "\n",
    "fig.subplots_adjust(right=0.8)\n",
    "fig.suptitle(f\"Runtime comparison between Numba and JAX ({backend.upper()}) Hilbert sort\", fontsize=15)\n",
    "cbar_ax = fig.add_axes([0.85, 0.15, 0.05, 0.7])\n",
    "fig.colorbar(im, cax=cbar_ax)\n"
   ],
   "metadata": {
    "collapsed": false,
    "pycharm": {
     "name": "#%%\n"
    }
   }
  }
 ],
 "metadata": {
  "kernelspec": {
   "display_name": "Python 3",
   "language": "python",
   "name": "python3"
  },
  "language_info": {
   "codemirror_mode": {
    "name": "ipython",
    "version": 2
   },
   "file_extension": ".py",
   "mimetype": "text/x-python",
   "name": "python",
   "nbconvert_exporter": "python",
   "pygments_lexer": "ipython2",
   "version": "2.7.6"
  }
 },
 "nbformat": 4,
 "nbformat_minor": 0
}